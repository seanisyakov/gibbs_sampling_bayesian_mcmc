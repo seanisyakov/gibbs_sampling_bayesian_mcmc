{
 "cells": [
  {
   "cell_type": "markdown",
   "metadata": {
    "deletable": true,
    "editable": true
   },
   "source": [
    "# Bayesian Networks and Gibbs Sampling"
   ]
  },
  {
   "cell_type": "markdown",
   "metadata": {
    "deletable": true,
    "editable": true
   },
   "source": [
    "> Bayesian Networks are models that try to explain dependent relationships in the real world. Data scientists can use Bayesian Networks as a way to graphically explain a wide range of causal phenomenom. See diagram 1 below for a simple example of bayesian networks in practice. \n",
    ">Furthermore, Bayesian networks can be used for inference; as you will see in the tutorial, models can can learn from the data they receive and accept or reject statistician's hypotheses. "
   ]
  },
  {
   "cell_type": "markdown",
   "metadata": {
    "deletable": true,
    "editable": true
   },
   "source": [
    "## Introducing Bayesian Networks"
   ]
  },
  {
   "cell_type": "markdown",
   "metadata": {
    "deletable": true,
    "editable": true
   },
   "source": [
    ">[Bayesian Networks](https://www.bayesserver.com/docs/introduction/bayesian-networks) are directed graphs that can model variables as nodes with the power to graphically and mathmatically convey many types of relationships in a causal system -- Bayes Theorem is the power behind the computation of the probability of each node in the network. As we saw in class, we can use [Bayes Theorem](https://medium.com/@akankshamalhotra24/naive-bayes-theorem-79832d506a63) to compute the likelihood of an event by considering the prior and likelihood."
   ]
  },
  {
   "cell_type": "markdown",
   "metadata": {
    "deletable": true,
    "editable": true
   },
   "source": [
    "![alt text](img/bayestheorem.png \"Title\")"
   ]
  },
  {
   "cell_type": "markdown",
   "metadata": {
    "deletable": true,
    "editable": true
   },
   "source": [
    "## Diagram 1: Bayesian Network for reasoning about the grass being wet"
   ]
  },
  {
   "cell_type": "markdown",
   "metadata": {
    "deletable": true,
    "editable": true
   },
   "source": [
    "![alt text](img/bayesnet.png \"Title\")"
   ]
  },
  {
   "cell_type": "markdown",
   "metadata": {
    "deletable": true,
    "editable": true
   },
   "source": [
    "**The ability to compute conditional probability is the engine behind computing the probabilities of nodes in a bayesian network -- knowledge of the other nodes helps drive the inference making abilities of the network.** \n"
   ]
  },
  {
   "cell_type": "markdown",
   "metadata": {
    "deletable": true,
    "editable": true
   },
   "source": [
    "All of the conditional probabilties between nodes should be explicit in a Bayesian network model in what we refer to as a **Conditional Probabilty Table** (CPT). \n",
    "    \n",
    "As you can see, this diagram displays the corresponding conditional probabilties at each node. \n",
    "\n",
    ">Any four nodes can be activated or off at one time -- there are 2^4 = 16 possible combinations of nodes in this graph. Each permutation has a joint probability, which can be computed by multiplying the corresponding cells of all four nodes in the given permutation. All of the joint probabilities of the 16 possible combinations will add up to one. \n",
    "\n",
    "The possible probabilities for each node are by definition dependent on their values of their input nodes.\n",
    "\n",
    ">For example the probability that all four nodes are \"true\" can be computed by: (.99) x (.8) x (.5) x (.1) = (0.0396)"
   ]
  },
  {
   "cell_type": "markdown",
   "metadata": {
    "deletable": true,
    "editable": true
   },
   "source": [
    "## Rice Pudding Inference in the Gibbs Family"
   ]
  },
  {
   "cell_type": "markdown",
   "metadata": {
    "deletable": true,
    "editable": true
   },
   "source": [
    "*The Gibbs, a four person family from Metropolopia, has certain traditions that may seem odd to outsiders. They absolutely **love** making and eating rice pudding. Although, they share a common love for the dessert, they share it only according to very strigent rules and customs which contribute to a philosophy of respecting elders.*"
   ]
  },
  {
   "cell_type": "markdown",
   "metadata": {
    "deletable": true,
    "editable": true
   },
   "source": [
    "## Family Sharing Rules for Rice Pudding"
   ]
  },
  {
   "cell_type": "markdown",
   "metadata": {
    "collapsed": true,
    "deletable": true,
    "editable": true
   },
   "source": [
    " \n",
    "\n",
    "* They each cook ricepudding around once a week (15% of all days)\n",
    "\n",
    "* They always cook leftover with enough to serve the whole family -- but by tradition, they only offer rice pudding to the family member born directly before them. Hence the eldest never shares.\n",
    "\n",
    "* Once in a while  a family member does not feel like sharing their pudding with family. "
   ]
  },
  {
   "cell_type": "markdown",
   "metadata": {
    "deletable": true,
    "editable": true
   },
   "source": [
    "## Converting the rules to a Bayesian Network"
   ]
  },
  {
   "cell_type": "markdown",
   "metadata": {
    "deletable": true,
    "editable": true
   },
   "source": [
    "**Based off of the rules, we can model the probabilty that a specific person in the family will receive pudding on an arbitrary day with a bayesian network. Below are the name of the 4 members of the family.**\n",
    "\n",
    "* Little Mia          (youngest)             = $M_{4}$\n",
    " \n",
    "* Maria-Jose     (second youngest)      = $M_{3}$\n",
    "\n",
    "* Mother Marge   (second oldest)        = $M_{2}$\n",
    "\n",
    "* Dad Matthew    (oldest)               = $M_{1}$\n",
    "\n",
    "If a node M~i = 1, this will indicate that this person will have access to rice pudding--either from cooking it for themself or getting it from someone else or both!\n",
    "\n",
    "Because both of these causal factors could happen in at the same time, in order to compute the conditional probability of $M_{1}$, $M_{2}$, $M_{3}$, we need to apply the inclusion-exclusion principle of sets to find P( $M_{i}$ = 1 given $M_{i}$+1=1) and P($M_{i}$=0 given $M_{i}$+1=1)\n",
    "\n",
    "\n",
    "In layman terms: \n",
    "P($M_{i}$=1 given $M_{i}$+1=1) = P(make their own rice pudding) + P(the person before them gives them ricepudding that they made) - (probability of both of things happening at the same time)\n",
    "\n",
    "\n",
    "```\n",
    ".15 + .8 + (.15*.8)\n",
    "\n",
    "= .95 - (.12) = .83\n",
    "```\n",
    "\n",
    "As a result, we can now construct our bayesian network for the family.\n"
   ]
  },
  {
   "cell_type": "markdown",
   "metadata": {
    "deletable": true,
    "editable": true
   },
   "source": [
    "![alt text](img/puddingThough.png \"Title\")"
   ]
  },
  {
   "cell_type": "markdown",
   "metadata": {
    "deletable": true,
    "editable": true
   },
   "source": [
    "## Implementing the graphical model in Python"
   ]
  },
  {
   "cell_type": "code",
   "execution_count": 1,
   "metadata": {
    "collapsed": true,
    "deletable": true,
    "editable": true
   },
   "outputs": [],
   "source": [
    "import numpy as np\n",
    "import matplotlib.pyplot as plt"
   ]
  },
  {
   "cell_type": "code",
   "execution_count": 2,
   "metadata": {
    "collapsed": true,
    "deletable": true,
    "editable": true
   },
   "outputs": [],
   "source": [
    "%matplotlib inline"
   ]
  },
  {
   "cell_type": "markdown",
   "metadata": {
    "deletable": true,
    "editable": true
   },
   "source": [
    ">Before we try to estimate the posterior distribution, we are going to encode the CPT's as arrays in python and then store the different CPT's in a python array. The finite amount of cases can all be covered from these conditional probabilities.  "
   ]
  },
  {
   "cell_type": "markdown",
   "metadata": {
    "deletable": true,
    "editable": true
   },
   "source": [
    "**$M_{4}$ has a different structure from the rest of the nodes, for the sake of simplicity**"
   ]
  },
  {
   "cell_type": "code",
   "execution_count": 3,
   "metadata": {
    "collapsed": false,
    "deletable": true,
    "editable": true
   },
   "outputs": [],
   "source": [
    "#CPT have to be explicitly declared in python array\n",
    "#cited below\n",
    "\n",
    "cpt_m4 = [0.85, 0.15]\n",
    "cpt_m3 = [[0.85, 0.15], [0.17, 0.83]]\n",
    "cpt_m2 = [[0.85, 0.15], [0.17, 0.83]]\n",
    "cpt_m1 = [[0.85, 0.15], [0.17, 0.83]]\n",
    "\n",
    "cpts = [cpt_m4, cpt_m3]\n"
   ]
  },
  {
   "cell_type": "markdown",
   "metadata": {
    "deletable": true,
    "editable": true
   },
   "source": [
    "## Markov chain Monte Carlo (MCMC)"
   ]
  },
  {
   "cell_type": "markdown",
   "metadata": {
    "deletable": true,
    "editable": true
   },
   "source": [
    "Markov chain Monte Carlo refers to a class of algorithms which attempt to define a probability distribution with a correlated sequence of samples.  If we have access to the joint density of a function, and want to get the mean or variance of the marginal probabilty density function of a random variable x, we might have too many variables in order to easily calculate the integrations necessary to getting those values.\n",
    "\n",
    "> Below the stationary distribution (pictured in orange) approximates the actual probability distribution (pictured in blue)\n",
    "\n",
    "**If we want to know the true causal likelihood of different states in a bayesian network, rather than integrating, we can randomly sample from the posterior distribution in order to estimate it.**"
   ]
  },
  {
   "cell_type": "markdown",
   "metadata": {
    "deletable": true,
    "editable": true
   },
   "source": [
    "### Cited below"
   ]
  },
  {
   "cell_type": "markdown",
   "metadata": {
    "collapsed": false,
    "deletable": true,
    "editable": true
   },
   "source": [
    "![alt text](img/MCMCting.png \"Title\")"
   ]
  },
  {
   "cell_type": "markdown",
   "metadata": {
    "deletable": true,
    "editable": true
   },
   "source": [
    "## Gibbs Sampling"
   ]
  },
  {
   "cell_type": "markdown",
   "metadata": {
    "collapsed": true,
    "deletable": true,
    "editable": true
   },
   "source": [
    "We are going to write an implementaion of the gibbs sampling algorithm to demonstrate how a random walk can converge to samples that will estimate the posterior.  "
   ]
  },
  {
   "cell_type": "markdown",
   "metadata": {
    "deletable": true,
    "editable": true
   },
   "source": [
    "# Implementing the Algorithm"
   ]
  },
  {
   "cell_type": "markdown",
   "metadata": {
    "deletable": true,
    "editable": true
   },
   "source": [
    "First we randomly pick a permutation of numbers. Suppose S is some assignment of variables of all of the variables except $v_{i}$. \n",
    "\n",
    ">The most important part of the algorithm to understand that if all other variables are left the same then the ratio between the two functions\n",
    "\n",
    "\n",
    "> 1 . (joint probability of $v_{i}$ = 0 given S) / (joint probability of $v_{i}$ = 1 given S) \n",
    "\n",
    "\n",
    "is equivalent to the ratio between \n",
    "\n",
    "\n",
    "> 2 . (P(v2 = 0 | S) / (P(v2 = 1 | S))"
   ]
  },
  {
   "cell_type": "markdown",
   "metadata": {
    "deletable": true,
    "editable": true
   },
   "source": [
    "This helper function allows me to replace all of the extra None values in the input array to 0. This is useful, because my temp array has to assign all values except $v_{i}$. "
   ]
  },
  {
   "cell_type": "code",
   "execution_count": 4,
   "metadata": {
    "collapsed": true,
    "deletable": true,
    "editable": true
   },
   "outputs": [],
   "source": [
    "def zeroReplace(tempList):\n",
    "    newList = tempList.copy()\n",
    "    for i in range(len(tempList)):\n",
    "        if (tempList[i] == None):\n",
    "            newList[i] = 0\n",
    "    return newList"
   ]
  },
  {
   "cell_type": "markdown",
   "metadata": {
    "deletable": true,
    "editable": true
   },
   "source": [
    "**Gibbs:** \n",
    ">The gibbs sampling estimate takes in sample size and the conditional probabilities of all the variables to estimate the marginal density function for a bunch of variables. Which will be accumulated in a matrix of samples with every column belonging to a family member while the rows will accumilate whether or not the family member had access to pudding in that sample\n",
    "\n",
    "sample_size : integer which enotes the amount of samples we want to take\n",
    "cpts : array of tuple arrays - the conditional probability tables describing our bayesian network\n",
    "For ex... cpts[0] = the cpt for M4, Moana \n",
    "\n",
    "cpts[i][0][0] = the prior probability of M[4-i] not getting rice pudding\n",
    "cpts[i][0][1] = the prior probability of M[4-i] getting rice pudding\n",
    "\n",
    "Value Test is an array representing Bayes Network with specific nodes valued as non-types, which. "
   ]
  },
  {
   "cell_type": "markdown",
   "metadata": {
    "deletable": true,
    "editable": true
   },
   "source": [
    "jointProbabability : multiplies all of the relevant cpt cell probabilities  specified by temp_list.\n",
    "\n",
    "\n",
    "cpts: data structure defined above\n",
    "temp_list : a proposal of states for variables in the bayesian network to take on"
   ]
  },
  {
   "cell_type": "code",
   "execution_count": 5,
   "metadata": {
    "collapsed": true,
    "deletable": true,
    "editable": true
   },
   "outputs": [],
   "source": [
    "#cited below\n",
    "def jointProbability(temp_list, cpts):\n",
    "    famsize = len(temp_list)\n",
    "    # data structure is different for the first element of cpts\n",
    "    prob = cpts[0][temp_list[0]]\n",
    "    for i in range(1,famsize):\n",
    "        tempVal = cpts[1][temp_list[i-1]][temp_list[i]] \n",
    "        prob = prob * tempVal\n",
    "    return prob"
   ]
  },
  {
   "cell_type": "code",
   "execution_count": 6,
   "metadata": {
    "collapsed": false,
    "deletable": true,
    "editable": true
   },
   "outputs": [],
   "source": [
    "def gibbs(fam, cpts, sample_size):\n",
    "    \n",
    "    total_nodes = len(fam)\n",
    "    \n",
    "    all_samples = np.zeros((sample_size, total_nodes))    \n",
    "    \n",
    "    # make a temp list copy of \n",
    "    tempyCopy = fam.copy()\n",
    "    \n",
    "    #make a temp value with all the Nones set to zero\n",
    "    tempCopy = zeroReplace(fam)\n",
    "        \n",
    "    for i in range(sample_size):\n",
    "        #first pass, go through the variables in a random order\n",
    "        #try it without random order too!\n",
    "        random_order = np.random.permutation(total_nodes)\n",
    "        \n",
    "        for j in random_order:\n",
    "            \n",
    "            if (fam[j] == None):\n",
    "                \n",
    "                tempList = tempCopy\n",
    "               \n",
    "                #tempList[j] set to zero\n",
    "                jointProbNumer = jointProbability(tempList, cpts)\n",
    "                \n",
    "                #Now we are going to try to compute the joint probability with variable j set to 1\n",
    "                newList2 = tempCopy\n",
    "                newList2[j] = 1\n",
    "                jointProbDenom = jointProbability(newList2, cpts)\n",
    "                sumProb = jointProbNumer + jointProbDenom \n",
    "                ratioNumer = jointProbNumer / sumProb\n",
    "                ratioDenom = 1 - ratioNumer\n",
    "                probBounds = [ratioNumer, ratioDenom]\n",
    "                \n",
    "                # creates the markov chain by sampling a new sample based off the probability ratio \n",
    "                # between P(v=0 | some sequence) / P(v=1 | some sequence)\n",
    "                tempCopy[j] = np.argmax(np.random.multinomial(1, pvals=probBounds))\n",
    "                \n",
    "        all_samples[i] = tempCopy\n",
    "        \n",
    "    return all_samples"
   ]
  },
  {
   "cell_type": "code",
   "execution_count": 7,
   "metadata": {
    "collapsed": false,
    "deletable": true,
    "editable": true
   },
   "outputs": [],
   "source": [
    "import matplotlib.patches as patches\n",
    "import matplotlib.path as path\n",
    "\n",
    "\n",
    "def plotGibbsResults(varAssignment, cpts, sample_size):\n",
    "    stringOfSample = str(sample_size)\n",
    "    all_samples = gibbs(varAssignment, cpts, sample_size)\n",
    "    meanOfSample = np.mean(all_samples, axis=0)\n",
    "    famSize = len(meanOfSample)\n",
    "    x = range(1,5)\n",
    "    ind = range(1, 5)\n",
    "    plt.bar(x, meanOfSample, color='c', align=\"center\")\n",
    "    plt.xticks(ind, x) \n",
    "    plt.xlabel = ('Fam')\n",
    "    plt.ylabel = ('% Rice Pudding Access')\n",
    "    plt.title('Rice Pudding Access\\n over %s sampled days in Gibbs Family'%stringOfSample)\n",
    "    axis1 = plt.gca()\n",
    "    axis1.set_ylim([0,1])\n",
    "    axis1.set_ylabel('Percent of days with pudding access')\n",
    "    axis1.set_xticklabels(['Moana', 'Maria-Jose', 'Marge', 'Dad Matthew'])\n",
    "    \n",
    "    \n"
   ]
  },
  {
   "cell_type": "markdown",
   "metadata": {
    "deletable": true,
    "editable": true
   },
   "source": [
    "Below we will see what will happen if we run gibbs on a our bayesian network defined with the CPTs we developed earlier. "
   ]
  },
  {
   "cell_type": "code",
   "execution_count": 8,
   "metadata": {
    "collapsed": false,
    "deletable": true,
    "editable": true
   },
   "outputs": [
    {
     "data": {
      "image/png": "[encoded data removed]",
      "text/plain": [
       "<matplotlib.figure.Figure at 0x10c597b00>"
      ]
     },
     "metadata": {},
     "output_type": "display_data"
    }
   ],
   "source": [
    "noFixedValues = np.array([None, None, None, None])\n",
    "plotGibbsResults(noFixedValues, cpts, 50)"
   ]
  },
  {
   "cell_type": "markdown",
   "metadata": {
    "deletable": true,
    "editable": true
   },
   "source": [
    "Something went wrong. In order to get a more accurate estimate of the distribution of random variables, the gibbs sampling."
   ]
  },
  {
   "cell_type": "code",
   "execution_count": 9,
   "metadata": {
    "collapsed": false,
    "deletable": true,
    "editable": true
   },
   "outputs": [
    {
     "data": {
      "image/png": "[encoded data removed]",
      "text/plain": [
       "<matplotlib.figure.Figure at 0x10c5b93c8>"
      ]
     },
     "metadata": {},
     "output_type": "display_data"
    }
   ],
   "source": [
    "plotGibbsResults(noFixedValues, cpts, 10000)"
   ]
  },
  {
   "cell_type": "markdown",
   "metadata": {
    "deletable": true,
    "editable": true
   },
   "source": [
    "This looks better. We can also fix values and how the family distribution of rice pudding would look in hypothetical universe. Below we show a universe where Baby Moana somehow has acess to an unlimited supply of rice pudding for the rest of her life.  The graph displays how frequently certain family members would have access to rice pudding in this alternate simulation."
   ]
  },
  {
   "cell_type": "code",
   "execution_count": 10,
   "metadata": {
    "collapsed": false,
    "deletable": true,
    "editable": true
   },
   "outputs": [
    {
     "data": {
      "image/png": "[encoded data removed]",
      "text/plain": [
       "<matplotlib.figure.Figure at 0x10f6272b0>"
      ]
     },
     "metadata": {},
     "output_type": "display_data"
    }
   ],
   "source": [
    "moanaRich = np.array([1, None, None, None])\n",
    "plotGibbsResults(moanaRich, cpts, 10000)"
   ]
  },
  {
   "cell_type": "markdown",
   "metadata": {
    "deletable": true,
    "editable": true
   },
   "source": [
    "One last idea which we should account for is burn-in. Essentially the point of accounting for burn-in is so a certain set of your samples in the beginning aren't included, because their present in the sample set could have easily biased by the luck of the draw in the initial sample."
   ]
  },
  {
   "cell_type": "code",
   "execution_count": 11,
   "metadata": {
    "collapsed": false,
    "deletable": true,
    "editable": true
   },
   "outputs": [],
   "source": [
    "def bestGibbsPlot(varAssignment, sample_size, cpts, burn_in):\n",
    "    stringOfSample = str(sample_size)\n",
    "    all_samples = gibbs(varAssignment, cpts, sample_size)\n",
    "    all_samples = all_samples[burn_in:]\n",
    "    meanOfSample = np.mean(all_samples, axis=0)\n",
    "    famSize = len(meanOfSample)\n",
    "    x = range(1,5)\n",
    "    ind = range(1, 5)\n",
    "    plt.bar(x, meanOfSample, color='c', align=\"center\")\n",
    "    plt.xticks(ind, x)\n",
    "    plt.xlabel = ('Fam')\n",
    "    plt.ylabel = ('% Rice Pudding Access')\n",
    "    plt.title('Rice Pudding Access\\n over %s sampled days in Gibbs Family'%stringOfSample)\n",
    "    axis1 = plt.gca()\n",
    "    axis1.set_ylim([0,1])\n",
    "    axis1.set_ylabel('Percent of days with pudding access')\n",
    "    axis1.set_xticklabels(['Moana', 'Maria-Jose', 'Marge', 'Dad Matthew'])\n",
    "    \n"
   ]
  },
  {
   "cell_type": "code",
   "execution_count": 12,
   "metadata": {
    "collapsed": false,
    "deletable": true,
    "editable": true
   },
   "outputs": [
    {
     "data": {
      "image/png": "[encoded data removed]",
      "text/plain": [
       "<matplotlib.figure.Figure at 0x10f762518>"
      ]
     },
     "metadata": {},
     "output_type": "display_data"
    }
   ],
   "source": [
    "moanaRich = np.array([None, None, None, None])\n",
    "bestGibbsPlot(moanaRich, 10000, cpts, 1000)"
   ]
  },
  {
   "cell_type": "markdown",
   "metadata": {
    "deletable": true,
    "editable": true
   },
   "source": [
    "### Summary and references "
   ]
  },
  {
   "cell_type": "markdown",
   "metadata": {
    "deletable": true,
    "editable": true
   },
   "source": [
    "\n",
    "**This tutorial highlighted applications of bayesian networks and how to apply Markov Chain Monte Carlo methods to correlated events in the real world. **\n",
    "\n",
    ">The cool thing about Monte Carlo methods is that they intuitively make sense in terms of how people reason about the world. The prior probalities represent of expecations based off our data in the past, like how frequently our friend Maria-Jose cooks up rice pudding.\n",
    "\n",
    ">Gibbs sampling demonstrates how variables outlined in Bayesian networks can be used as a platform for probablistic inference in a wide variety of scenarios. \n",
    "\n",
    "To read a more intuitive explanation of MCMC I recommend the following site for those interested... https://jeremykun.com/2015/04/06/markov-chain-monte-carlo-without-all-the-bullshit/\n",
    "\n",
    "1. Bayesian Networks: https://www.bayesserver.com/docs/introduction/bayesian-networks\n",
    " \n",
    "2. Bayes Theorem: https://medium.com/@akankshamalhotra24/naive-bayes-theorem-79832d506a63\n",
    "\n",
    "3. Gibbs Sampling: http://www.mit.edu/~ilkery/papers/GibbsSampling.pdf\n",
    "\n",
    "4. MCMC picture: 2https://upload.wikimedia.org/wikipedia/commons/5/5e/Metropolis_algorithm_convergence_example.png\n",
    "\n",
    "5. More Gibbs Sampling https://www.youtube.com/watch?v=a_08GKWHFWo&t=90s\n",
    "\n",
    "6. Joint probability implementation reference: PS5 - Learning in Humans and Machines Spring 2018\n"
   ]
  }
 ],
 "metadata": {
  "kernelspec": {
   "display_name": "Python [default]",
   "language": "python",
   "name": "python3"
  },
  "language_info": {
   "codemirror_mode": {
    "name": "ipython",
    "version": 3
   },
   "file_extension": ".py",
   "mimetype": "text/x-python",
   "name": "python",
   "nbconvert_exporter": "python",
   "pygments_lexer": "ipython3",
   "version": "3.5.5"
  }
 },
 "nbformat": 4,
 "nbformat_minor": 0
}
